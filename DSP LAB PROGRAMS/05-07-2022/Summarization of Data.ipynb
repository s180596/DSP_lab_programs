{
 "cells": [
  {
   "cell_type": "code",
   "execution_count": 1,
   "metadata": {},
   "outputs": [],
   "source": [
    "import numpy as n\n",
    "import pandas as p\n",
    "import matplotlib.pyplot as plt"
   ]
  },
  {
   "cell_type": "code",
   "execution_count": 2,
   "metadata": {},
   "outputs": [
    {
     "name": "stdout",
     "output_type": "stream",
     "text": [
      "     ID      NAME BRANCH  CGPA  MARKS    FEE GENDER\n",
      "0   596    bhagya    cse  9.50    450   1000      F\n",
      "1   766      teja    ece  9.70    470   2000      M\n",
      "2   566      raju     me  9.40    445   4200      M\n",
      "3   373  poojitha    cse  9.72    478   3000      F\n",
      "4   543     sunny     me  9.50    450   5000      M\n",
      "5   992      neha    ece  9.89    490  23535      F\n",
      "6   786    naveen    eee  9.90    495  20000      M\n",
      "7   305     satya     ce  9.74    479  56457      F\n",
      "8   999     sailu    eee  9.80    480   7567      F\n",
      "9   839    chinna     ce  9.60    468   4020      M\n",
      "10  101    sweety     me  9.20    400  10000      F\n",
      "11  345      nani    cse  9.70    475   3000      M\n",
      "12  420    geetha    cse  9.70    470  68568      F\n",
      "13  191   sumathi     ce  9.89    490   5754      F\n",
      "14  895     madhu     ce  9.75    475   6765      F\n",
      "15  425   dharani    ece  9.95    495   5677      F\n"
     ]
    }
   ],
   "source": [
    "df=p.read_csv(\"students.csv\")\n",
    "print(df)"
   ]
  },
  {
   "cell_type": "code",
   "execution_count": 3,
   "metadata": {},
   "outputs": [
    {
     "name": "stdout",
     "output_type": "stream",
     "text": [
      "<pandas.core.groupby.generic.DataFrameGroupBy object at 0x000001CFFF18B488>\n"
     ]
    }
   ],
   "source": [
    "print(df.groupby([\"BRANCH\"]))"
   ]
  },
  {
   "cell_type": "code",
   "execution_count": 4,
   "metadata": {},
   "outputs": [
    {
     "name": "stdout",
     "output_type": "stream",
     "text": [
      "                ID      CGPA       MARKS      FEE\n",
      "BRANCH                                           \n",
      "ce      557.500000  9.745000  478.000000  18249.0\n",
      "cse     433.500000  9.655000  468.250000  18892.0\n",
      "ece     727.666667  9.846667  485.000000  10404.0\n",
      "eee     892.500000  9.850000  487.500000  13783.5\n",
      "me      403.333333  9.366667  431.666667   6400.0\n"
     ]
    }
   ],
   "source": [
    "print(df.groupby([\"BRANCH\"]).mean())"
   ]
  },
  {
   "cell_type": "code",
   "execution_count": 5,
   "metadata": {},
   "outputs": [
    {
     "name": "stdout",
     "output_type": "stream",
     "text": [
      "         ID     NAME  CGPA  MARKS   FEE GENDER\n",
      "BRANCH                                        \n",
      "ce      191   chinna   9.6    468  4020      F\n",
      "cse     345   bhagya   9.5    450  1000      F\n",
      "ece     425  dharani   9.7    470  2000      F\n",
      "eee     786   naveen   9.8    480  7567      F\n",
      "me      101     raju   9.2    400  4200      F\n"
     ]
    }
   ],
   "source": [
    "print(df.groupby([\"BRANCH\"]).min())"
   ]
  },
  {
   "cell_type": "code",
   "execution_count": 6,
   "metadata": {},
   "outputs": [
    {
     "name": "stdout",
     "output_type": "stream",
     "text": [
      "<pandas.core.groupby.generic.DataFrameGroupBy object at 0x000001CFFF1C0888>\n"
     ]
    }
   ],
   "source": [
    "print(df.groupby([\"BRANCH\"]))"
   ]
  },
  {
   "cell_type": "code",
   "execution_count": 7,
   "metadata": {},
   "outputs": [
    {
     "name": "stdout",
     "output_type": "stream",
     "text": [
      "<pandas.core.groupby.generic.DataFrameGroupBy object at 0x000001CFFF1F30C8>\n"
     ]
    }
   ],
   "source": [
    "print(df.groupby([\"BRANCH\",\"GENDER\"]))"
   ]
  },
  {
   "cell_type": "code",
   "execution_count": 8,
   "metadata": {},
   "outputs": [
    {
     "data": {
      "text/plain": [
       "{'ce': Int64Index([7, 9, 13, 14], dtype='int64'),\n",
       " 'cse': Int64Index([0, 3, 11, 12], dtype='int64'),\n",
       " 'ece': Int64Index([1, 5, 15], dtype='int64'),\n",
       " 'eee': Int64Index([6, 8], dtype='int64'),\n",
       " 'me': Int64Index([2, 4, 10], dtype='int64')}"
      ]
     },
     "execution_count": 8,
     "metadata": {},
     "output_type": "execute_result"
    }
   ],
   "source": [
    "df.groupby([\"BRANCH\"]).groups"
   ]
  },
  {
   "cell_type": "code",
   "execution_count": 9,
   "metadata": {},
   "outputs": [
    {
     "name": "stdout",
     "output_type": "stream",
     "text": [
      "{'ce': Int64Index([7, 9, 13, 14], dtype='int64'), 'cse': Int64Index([0, 3, 11, 12], dtype='int64'), 'ece': Int64Index([1, 5, 15], dtype='int64'), 'eee': Int64Index([6, 8], dtype='int64'), 'me': Int64Index([2, 4, 10], dtype='int64')}\n"
     ]
    }
   ],
   "source": [
    "print(df.groupby([\"BRANCH\"]).groups)"
   ]
  },
  {
   "cell_type": "code",
   "execution_count": 10,
   "metadata": {},
   "outputs": [
    {
     "name": "stdout",
     "output_type": "stream",
     "text": [
      "                ID      NAME  CGPA  MARKS    FEE\n",
      "BRANCH GENDER                                   \n",
      "ce     F       895   sumathi  9.89    490  56457\n",
      "       M       839    chinna  9.60    468   4020\n",
      "cse    F       596  poojitha  9.72    478  68568\n",
      "       M       345      nani  9.70    475   3000\n",
      "ece    F       992      neha  9.95    495  23535\n",
      "       M       766      teja  9.70    470   2000\n",
      "eee    F       999     sailu  9.80    480   7567\n",
      "       M       786    naveen  9.90    495  20000\n",
      "me     F       101    sweety  9.20    400  10000\n",
      "       M       566     sunny  9.50    450   5000\n"
     ]
    }
   ],
   "source": [
    "print(df.groupby([\"BRANCH\",\"GENDER\"]).max())"
   ]
  },
  {
   "cell_type": "code",
   "execution_count": 11,
   "metadata": {},
   "outputs": [
    {
     "name": "stdout",
     "output_type": "stream",
     "text": [
      "                ID     NAME  CGPA  MARKS    FEE\n",
      "GENDER BRANCH                                  \n",
      "F      ce      191    madhu  9.74    475   5754\n",
      "       cse     373   bhagya  9.50    450   1000\n",
      "       ece     425  dharani  9.89    490   5677\n",
      "       eee     999    sailu  9.80    480   7567\n",
      "       me      101   sweety  9.20    400  10000\n",
      "M      ce      839   chinna  9.60    468   4020\n",
      "       cse     345     nani  9.70    475   3000\n",
      "       ece     766     teja  9.70    470   2000\n",
      "       eee     786   naveen  9.90    495  20000\n",
      "       me      543     raju  9.40    445   4200\n"
     ]
    }
   ],
   "source": [
    "print(df.groupby([\"GENDER\",\"BRANCH\"]).min())"
   ]
  },
  {
   "cell_type": "code",
   "execution_count": 12,
   "metadata": {},
   "outputs": [
    {
     "name": "stdout",
     "output_type": "stream",
     "text": [
      "{('F', 'ce'): Int64Index([7, 13, 14], dtype='int64'), ('F', 'cse'): Int64Index([0, 3, 12], dtype='int64'), ('F', 'ece'): Int64Index([5, 15], dtype='int64'), ('F', 'eee'): Int64Index([8], dtype='int64'), ('F', 'me'): Int64Index([10], dtype='int64'), ('M', 'ce'): Int64Index([9], dtype='int64'), ('M', 'cse'): Int64Index([11], dtype='int64'), ('M', 'ece'): Int64Index([1], dtype='int64'), ('M', 'eee'): Int64Index([6], dtype='int64'), ('M', 'me'): Int64Index([2, 4], dtype='int64')}\n"
     ]
    }
   ],
   "source": [
    "print(df.groupby([\"GENDER\",\"BRANCH\"]).groups)"
   ]
  },
  {
   "cell_type": "code",
   "execution_count": 13,
   "metadata": {},
   "outputs": [
    {
     "name": "stdout",
     "output_type": "stream",
     "text": [
      "          ID                                                               \\\n",
      "       count        mean         std    min     25%    50%     75%    max   \n",
      "BRANCH                                                                      \n",
      "ce       4.0  557.500000  361.121863  191.0  276.50  572.0  853.00  895.0   \n",
      "cse      4.0  433.500000  112.666174  345.0  366.00  396.5  464.00  596.0   \n",
      "ece      3.0  727.666667  285.437092  425.0  595.50  766.0  879.00  992.0   \n",
      "eee      2.0  892.500000  150.613744  786.0  839.25  892.5  945.75  999.0   \n",
      "me       3.0  403.333333  262.080776  101.0  322.00  543.0  554.50  566.0   \n",
      "\n",
      "        CGPA            ...   MARKS          FEE                         \\\n",
      "       count      mean  ...     75%    max count     mean           std   \n",
      "BRANCH                  ...                                               \n",
      "ce       4.0  9.745000  ...  481.75  490.0   4.0  18249.0  25497.208906   \n",
      "cse      4.0  9.655000  ...  475.75  478.0   4.0  18892.0  33130.750912   \n",
      "ece      3.0  9.846667  ...  492.50  495.0   3.0  10404.0  11519.438051   \n",
      "eee      2.0  9.850000  ...  491.25  495.0   2.0  13783.5   8791.458610   \n",
      "me       3.0  9.366667  ...  447.50  450.0   3.0   6400.0   3143.246729   \n",
      "\n",
      "                                                      \n",
      "           min       25%      50%       75%      max  \n",
      "BRANCH                                                \n",
      "ce      4020.0   5320.50   6259.5  19188.00  56457.0  \n",
      "cse     1000.0   2500.00   3000.0  19392.00  68568.0  \n",
      "ece     2000.0   3838.50   5677.0  14606.00  23535.0  \n",
      "eee     7567.0  10675.25  13783.5  16891.75  20000.0  \n",
      "me      4200.0   4600.00   5000.0   7500.00  10000.0  \n",
      "\n",
      "[5 rows x 32 columns]\n"
     ]
    }
   ],
   "source": [
    "print(df.groupby([\"BRANCH\"]).describe())"
   ]
  },
  {
   "cell_type": "code",
   "execution_count": 14,
   "metadata": {},
   "outputs": [
    {
     "name": "stdout",
     "output_type": "stream",
     "text": [
      "FEMALE:\n",
      "     ID      NAME BRANCH  CGPA  MARKS    FEE GENDER\n",
      "0   596    bhagya    cse  9.50    450   1000      F\n",
      "3   373  poojitha    cse  9.72    478   3000      F\n",
      "5   992      neha    ece  9.89    490  23535      F\n",
      "7   305     satya     ce  9.74    479  56457      F\n",
      "8   999     sailu    eee  9.80    480   7567      F\n",
      "10  101    sweety     me  9.20    400  10000      F\n",
      "12  420    geetha    cse  9.70    470  68568      F\n",
      "13  191   sumathi     ce  9.89    490   5754      F\n",
      "14  895     madhu     ce  9.75    475   6765      F\n",
      "15  425   dharani    ece  9.95    495   5677      F\n",
      "MALE:\n",
      "     ID    NAME BRANCH  CGPA  MARKS    FEE GENDER\n",
      "1   766    teja    ece   9.7    470   2000      M\n",
      "2   566    raju     me   9.4    445   4200      M\n",
      "4   543   sunny     me   9.5    450   5000      M\n",
      "6   786  naveen    eee   9.9    495  20000      M\n",
      "9   839  chinna     ce   9.6    468   4020      M\n",
      "11  345    nani    cse   9.7    475   3000      M\n"
     ]
    }
   ],
   "source": [
    "g=df.groupby([\"GENDER\"])\n",
    "print(\"FEMALE:\")\n",
    "print(g.get_group(\"F\"))\n",
    "print(\"MALE:\")\n",
    "print(g.get_group(\"M\"))"
   ]
  },
  {
   "cell_type": "code",
   "execution_count": 15,
   "metadata": {},
   "outputs": [
    {
     "data": {
      "text/plain": [
       "ce     4\n",
       "cse    4\n",
       "me     3\n",
       "ece    3\n",
       "eee    2\n",
       "Name: BRANCH, dtype: int64"
      ]
     },
     "execution_count": 15,
     "metadata": {},
     "output_type": "execute_result"
    }
   ],
   "source": [
    "df[\"BRANCH\"].value_counts()"
   ]
  },
  {
   "cell_type": "code",
   "execution_count": 16,
   "metadata": {},
   "outputs": [
    {
     "name": "stdout",
     "output_type": "stream",
     "text": [
      "___about p1:___\n",
      "mean: 3.2\n",
      "median: 3.0\n",
      "mode: 0    1\n",
      "1    2\n",
      "2    3\n",
      "3    4\n",
      "4    6\n",
      "dtype: int64\n",
      "std: 1.9235384061671346\n",
      "var: 3.7\n",
      "____about p2:____\n",
      "mean: 6.8\n",
      "median: 4.0\n",
      "mode: 0     1\n",
      "1     3\n",
      "2     4\n",
      "3     6\n",
      "4    20\n",
      "dtype: int64\n",
      "std: 7.596051605933177\n",
      "var: 57.699999999999996\n",
      "____about p3:____\n",
      "mean: 14.0\n",
      "median: 3.0\n",
      "mode: 0     1\n",
      "1     2\n",
      "2     3\n",
      "3     4\n",
      "4    60\n",
      "dtype: int64\n",
      "std: 25.739075352467502\n",
      "var: 662.5\n"
     ]
    }
   ],
   "source": [
    "p1=p.Series([1,3,2,4,6,])\n",
    "p2=p.Series([1,3,20,4,6,])\n",
    "p3=p.Series([1,3,2,4,60,])\n",
    "print(\"___about p1:___\")\n",
    "print(\"mean:\",p1.mean())\n",
    "print(\"median:\",p1.median())\n",
    "print(\"mode:\",p1.mode())\n",
    "print(\"std:\",p1.std())\n",
    "print(\"var:\",p1.var())\n",
    "print(\"____about p2:____\")\n",
    "print(\"mean:\",p2.mean())\n",
    "print(\"median:\",p2.median())\n",
    "print(\"mode:\",p2.mode())\n",
    "print(\"std:\",p2.std())\n",
    "print(\"var:\",p2.var())\n",
    "print(\"____about p3:____\")\n",
    "print(\"mean:\",p3.mean())\n",
    "print(\"median:\",p3.median())\n",
    "print(\"mode:\",p3.mode())\n",
    "print(\"std:\",p3.std())\n",
    "print(\"var:\",p3.var())"
   ]
  },
  {
   "cell_type": "code",
   "execution_count": 17,
   "metadata": {},
   "outputs": [
    {
     "name": "stdout",
     "output_type": "stream",
     "text": [
      "___about p1:___\n",
      "mean: 4.857142857142857\n",
      "median: 4.0\n",
      "mode: 0     1\n",
      "1     2\n",
      "2     3\n",
      "3     4\n",
      "4     6\n",
      "5     8\n",
      "6    10\n",
      "dtype: int64\n",
      "std: 3.2877840272018797\n",
      "var: 10.80952380952381\n",
      "____about p2:____\n",
      "mean: 7.428571428571429\n",
      "median: 6.0\n",
      "mode: 0     1\n",
      "1     3\n",
      "2     4\n",
      "3     6\n",
      "4     8\n",
      "5    10\n",
      "6    20\n",
      "dtype: int64\n",
      "std: 6.320789582985733\n",
      "var: 39.952380952380956\n",
      "____about p3:____\n",
      "mean: 12.571428571428571\n",
      "median: 4.0\n",
      "mode: 0     1\n",
      "1     2\n",
      "2     3\n",
      "3     4\n",
      "4     8\n",
      "5    10\n",
      "6    60\n",
      "dtype: int64\n",
      "std: 21.164885564358265\n",
      "var: 447.9523809523809\n",
      "___about p4:___\n",
      "mean: 10.0\n",
      "median: 6.0\n",
      "mode: 0     1\n",
      "1     2\n",
      "2     3\n",
      "3     6\n",
      "4     8\n",
      "5    10\n",
      "6    40\n",
      "dtype: int64\n",
      "std: 13.625955623979797\n",
      "var: 185.66666666666666\n",
      "____about p5:____\n",
      "mean: 15.142857142857142\n",
      "median: 4.0\n",
      "mode: 0     1\n",
      "1     2\n",
      "2     3\n",
      "3     4\n",
      "4     6\n",
      "5    10\n",
      "6    80\n",
      "dtype: int64\n",
      "std: 28.754295745323407\n",
      "var: 826.8095238095239\n",
      "____about p6:____\n",
      "mean: 6.142857142857143\n",
      "median: 6.0\n",
      "mode: 0    10\n",
      "dtype: int64\n",
      "std: 3.2877840272018797\n",
      "var: 10.80952380952381\n",
      "___about p7:___\n",
      "mean: 8.714285714285714\n",
      "median: 6.0\n",
      "mode: 0     1\n",
      "1     2\n",
      "2     4\n",
      "3     6\n",
      "4     8\n",
      "5    10\n",
      "6    30\n",
      "dtype: int64\n",
      "std: 9.911513266807205\n",
      "var: 98.23809523809523\n",
      "____about p8:____\n",
      "mean: 10.0\n",
      "median: 6.0\n",
      "mode: 0     1\n",
      "1     2\n",
      "2     3\n",
      "3     6\n",
      "4     8\n",
      "5    10\n",
      "6    40\n",
      "dtype: int64\n",
      "std: 13.625955623979797\n",
      "var: 185.66666666666666\n",
      "____about p9:____\n",
      "mean: 12.571428571428571\n",
      "median: 4.0\n",
      "mode: 0     1\n",
      "1     2\n",
      "2     3\n",
      "3     4\n",
      "4     8\n",
      "5    10\n",
      "6    60\n",
      "dtype: int64\n",
      "std: 21.164885564358265\n",
      "var: 447.9523809523809\n",
      "___about p10:___\n",
      "mean: 15.142857142857142\n",
      "median: 8.0\n",
      "mode: 0     1\n",
      "1     3\n",
      "2     4\n",
      "3     8\n",
      "4    10\n",
      "5    20\n",
      "6    60\n",
      "dtype: int64\n",
      "std: 20.755951527442047\n",
      "var: 430.8095238095239\n"
     ]
    }
   ],
   "source": [
    "p1=p.Series([1,3,2,4,6,8,10])\n",
    "p2=p.Series([1,3,20,4,6,8,10])\n",
    "p3=p.Series([1,3,2,4,60,8,10])\n",
    "p4=p.Series([1,3,2,40,6,8,10])\n",
    "p5=p.Series([1,3,2,4,6,80,10])\n",
    "p6=p.Series([10,3,2,4,6,8,10])\n",
    "p7=p.Series([1,30,2,4,6,8,10])\n",
    "p8=p.Series([1,3,2,40,6,8,10])\n",
    "p9=p.Series([1,3,2,4,60,8,10])\n",
    "p10=p.Series([1,3,20,4,60,8,10])\n",
    "print(\"___about p1:___\")\n",
    "print(\"mean:\",p1.mean())\n",
    "print(\"median:\",p1.median())\n",
    "print(\"mode:\",p1.mode())\n",
    "print(\"std:\",p1.std())\n",
    "print(\"var:\",p1.var())\n",
    "print(\"____about p2:____\")\n",
    "print(\"mean:\",p2.mean())\n",
    "print(\"median:\",p2.median())\n",
    "print(\"mode:\",p2.mode())\n",
    "print(\"std:\",p2.std())\n",
    "print(\"var:\",p2.var())\n",
    "print(\"____about p3:____\")\n",
    "print(\"mean:\",p3.mean())\n",
    "print(\"median:\",p3.median())\n",
    "print(\"mode:\",p3.mode())\n",
    "print(\"std:\",p3.std())\n",
    "print(\"var:\",p3.var())\n",
    "print(\"___about p4:___\")\n",
    "print(\"mean:\",p4.mean())\n",
    "print(\"median:\",p4.median())\n",
    "print(\"mode:\",p4.mode())\n",
    "print(\"std:\",p4.std())\n",
    "print(\"var:\",p4.var())\n",
    "print(\"____about p5:____\")\n",
    "print(\"mean:\",p5.mean())\n",
    "print(\"median:\",p5.median())\n",
    "print(\"mode:\",p5.mode())\n",
    "print(\"std:\",p5.std())\n",
    "print(\"var:\",p5.var())\n",
    "print(\"____about p6:____\")\n",
    "print(\"mean:\",p6.mean())\n",
    "print(\"median:\",p6.median())\n",
    "print(\"mode:\",p6.mode())\n",
    "print(\"std:\",p6.std())\n",
    "print(\"var:\",p6.var())\n",
    "print(\"___about p7:___\")\n",
    "print(\"mean:\",p7.mean())\n",
    "print(\"median:\",p7.median())\n",
    "print(\"mode:\",p7.mode())\n",
    "print(\"std:\",p7.std())\n",
    "print(\"var:\",p7.var())\n",
    "\n",
    "print(\"____about p8:____\")\n",
    "print(\"mean:\",p8.mean())\n",
    "print(\"median:\",p8.median())\n",
    "print(\"mode:\",p8.mode())\n",
    "print(\"std:\",p8.std())\n",
    "print(\"var:\",p8.var())\n",
    "print(\"____about p9:____\")\n",
    "print(\"mean:\",p9.mean())\n",
    "print(\"median:\",p9.median())\n",
    "print(\"mode:\",p9.mode())\n",
    "print(\"std:\",p9.std())\n",
    "print(\"var:\",p9.var())\n",
    "print(\"___about p10:___\")\n",
    "print(\"mean:\",p10.mean())\n",
    "print(\"median:\",p10.median())\n",
    "print(\"mode:\",p10.mode())\n",
    "print(\"std:\",p10.std())\n",
    "print(\"var:\",p10.var())"
   ]
  },
  {
   "cell_type": "code",
   "execution_count": 18,
   "metadata": {},
   "outputs": [
    {
     "name": "stdout",
     "output_type": "stream",
     "text": [
      "p1: 0     1\n",
      "1     3\n",
      "2     2\n",
      "3     4\n",
      "4     6\n",
      "5     8\n",
      "6    10\n",
      "dtype: int64\n",
      "p2: 0     1\n",
      "1     3\n",
      "2    20\n",
      "3     4\n",
      "4     6\n",
      "5     8\n",
      "6    10\n",
      "dtype: int64\n",
      "p3: 0     1\n",
      "1     3\n",
      "2     2\n",
      "3     4\n",
      "4    60\n",
      "5     8\n",
      "6    10\n",
      "dtype: int64\n",
      "p4: 0     1\n",
      "1     3\n",
      "2     2\n",
      "3    40\n",
      "4     6\n",
      "5     8\n",
      "6    10\n",
      "dtype: int64\n",
      "p5: 0     1\n",
      "1     3\n",
      "2     2\n",
      "3     4\n",
      "4     6\n",
      "5    80\n",
      "6    10\n",
      "dtype: int64\n",
      "p6: 0    10\n",
      "1     3\n",
      "2     2\n",
      "3     4\n",
      "4     6\n",
      "5     8\n",
      "6    10\n",
      "dtype: int64\n",
      "p7: 0     1\n",
      "1    30\n",
      "2     2\n",
      "3     4\n",
      "4     6\n",
      "5     8\n",
      "6    10\n",
      "dtype: int64\n",
      "p8: 0     1\n",
      "1     3\n",
      "2     2\n",
      "3    40\n",
      "4     6\n",
      "5     8\n",
      "6    10\n",
      "dtype: int64\n",
      "p9: 0     1\n",
      "1     3\n",
      "2     2\n",
      "3     4\n",
      "4    60\n",
      "5     8\n",
      "6    10\n",
      "dtype: int64\n",
      "p10: 0     1\n",
      "1     3\n",
      "2    20\n",
      "3     4\n",
      "4    60\n",
      "5     8\n",
      "6    10\n",
      "dtype: int64\n",
      "        mean  median        std         var\n",
      "0   4.857143     4.0   3.287784   10.809524\n",
      "1   7.428571     6.0   6.320790   39.952381\n",
      "2  12.571429     4.0  21.164886  447.952381\n",
      "3  10.000000     6.0  13.625956  185.666667\n",
      "4  15.142857     4.0  28.754296  826.809524\n",
      "5   6.142857     6.0   3.287784   10.809524\n",
      "6   8.714286     6.0   9.911513   98.238095\n",
      "7  10.000000     6.0  13.625956  185.666667\n",
      "8  12.571429     4.0  21.164886  447.952381\n",
      "9  15.142857     8.0  20.755952  430.809524\n"
     ]
    }
   ],
   "source": [
    "df=p.DataFrame({\"mean\":[p1.mean(),p2.mean(),p3.mean(),p4.mean(),p5.mean(),p6.mean(),p7.mean(),p8.mean(),p9.mean(),p10.mean()],\n",
    "             \"median\":[p1.median(),p2.median(),p3.median(),p4.median(),p5.median(),p6.median(),p7.median(),p8.median(),p9.median(),p10.median()],\n",
    "             \"std\":[p1.std(),p2.std(),p3.std(),p4.std(),p5.std(),p6.std(),p7.std(),p8.std(),p9.std(),p10.std()],\n",
    "             \"var\":[p1.var(),p2.var(),p3.var(),p4.var(),p5.var(),p6.var(),p7.var(),p8.var(),p9.var(),p10.var()]})\n",
    "print(\"p1:\",p1)\n",
    "print(\"p2:\",p2)\n",
    "print(\"p3:\",p3)\n",
    "print(\"p4:\",p4)\n",
    "print(\"p5:\",p5)\n",
    "print(\"p6:\",p6)\n",
    "print(\"p7:\",p7)\n",
    "print(\"p8:\",p8)\n",
    "print(\"p9:\",p9)\n",
    "print(\"p10:\",p10)\n",
    "print(df)"
   ]
  },
  {
   "cell_type": "code",
   "execution_count": 19,
   "metadata": {},
   "outputs": [
    {
     "data": {
      "image/png": "[encoded data removed]",
      "text/plain": [
       "<Figure size 432x288 with 1 Axes>"
      ]
     },
     "metadata": {
      "needs_background": "light"
     },
     "output_type": "display_data"
    }
   ],
   "source": [
    "x=[1,2,4,6,8,10,12,14,16,18]\n",
    "plt.hist(df[\"mean\"],bins=20,label=\"Mean\",color=\"r\")\n",
    "plt.legend(loc=\"upper left\")\n",
    "plt.xlabel(\"population's mean\")\n",
    "plt.ylabel(\"frequency\")\n",
    "plt.xticks(x)\n",
    "plt.yticks([1,2,3])\n",
    "plt.title(\"Mean of all given populations\")\n",
    "plt.show()\n"
   ]
  },
  {
   "cell_type": "code",
   "execution_count": 20,
   "metadata": {},
   "outputs": [
    {
     "name": "stdout",
     "output_type": "stream",
     "text": [
      "0    4.0\n",
      "1    6.0\n",
      "2    4.0\n",
      "3    6.0\n",
      "4    4.0\n",
      "5    6.0\n",
      "6    6.0\n",
      "7    6.0\n",
      "8    4.0\n",
      "9    8.0\n",
      "Name: median, dtype: float64\n"
     ]
    },
    {
     "data": {
      "image/png": "[encoded data removed]",
      "text/plain": [
       "<Figure size 432x288 with 1 Axes>"
      ]
     },
     "metadata": {
      "needs_background": "light"
     },
     "output_type": "display_data"
    }
   ],
   "source": [
    "print(df[\"median\"])\n",
    "x=[1,2,4,6,8,10,12,14,16,18]\n",
    "plt.hist(df[\"median\"],bins=10,label=\"Median\",color=\"black\")\n",
    "plt.legend(loc=\"upper left\")\n",
    "plt.xlabel(\"population's median\")\n",
    "plt.ylabel(\"frequency\")\n",
    "plt.xticks(x)\n",
    "plt.title(\"Median of all given populations\")\n",
    "plt.show()"
   ]
  },
  {
   "cell_type": "code",
   "execution_count": 21,
   "metadata": {},
   "outputs": [
    {
     "name": "stdout",
     "output_type": "stream",
     "text": [
      "0     3.287784\n",
      "1     6.320790\n",
      "2    21.164886\n",
      "3    13.625956\n",
      "4    28.754296\n",
      "5     3.287784\n",
      "6     9.911513\n",
      "7    13.625956\n",
      "8    21.164886\n",
      "9    20.755952\n",
      "Name: std, dtype: float64\n"
     ]
    },
    {
     "data": {
      "image/png": "[encoded data removed]",
      "text/plain": [
       "<Figure size 432x288 with 1 Axes>"
      ]
     },
     "metadata": {
      "needs_background": "light"
     },
     "output_type": "display_data"
    }
   ],
   "source": [
    "print(df[\"std\"])\n",
    "x=[1,5,10,15,20,25,30]\n",
    "plt.hist(df[\"std\"],bins=50,label=\"Standard deviation\",color=\"hotpink\")\n",
    "plt.legend(loc=\"upper left\")\n",
    "plt.xlabel(\"population's standard deviation\")\n",
    "plt.ylabel(\"frequency\")\n",
    "plt.xticks(x)\n",
    "plt.yticks([1,2,3])\n",
    "plt.title(\"Standard deviation of all given populations\")\n",
    "plt.show()"
   ]
  },
  {
   "cell_type": "code",
   "execution_count": 22,
   "metadata": {},
   "outputs": [
    {
     "name": "stdout",
     "output_type": "stream",
     "text": [
      "0     10.809524\n",
      "1     39.952381\n",
      "2    447.952381\n",
      "3    185.666667\n",
      "4    826.809524\n",
      "5     10.809524\n",
      "6     98.238095\n",
      "7    185.666667\n",
      "8    447.952381\n",
      "9    430.809524\n",
      "Name: var, dtype: float64\n"
     ]
    },
    {
     "data": {
      "image/png": "[encoded data removed]",
      "text/plain": [
       "<Figure size 432x288 with 1 Axes>"
      ]
     },
     "metadata": {
      "needs_background": "light"
     },
     "output_type": "display_data"
    }
   ],
   "source": [
    "print(df[\"var\"])\n",
    "plt.hist(df[\"var\"],bins=50,label=\"Variance\",color=\"g\")\n",
    "plt.legend(loc=\"upper left\")\n",
    "plt.xlabel(\"population's variance\")\n",
    "plt.ylabel(\"frequency\")\n",
    "plt.yticks([1,2,3])\n",
    "plt.title(\"Variance of all given populations\")\n",
    "plt.show()"
   ]
  },
  {
   "cell_type": "code",
   "execution_count": 23,
   "metadata": {},
   "outputs": [
    {
     "data": {
      "text/html": [
       "<div>\n",
       "<style scoped>\n",
       "    .dataframe tbody tr th:only-of-type {\n",
       "        vertical-align: middle;\n",
       "    }\n",
       "\n",
       "    .dataframe tbody tr th {\n",
       "        vertical-align: top;\n",
       "    }\n",
       "\n",
       "    .dataframe thead th {\n",
       "        text-align: right;\n",
       "    }\n",
       "</style>\n",
       "<table border=\"1\" class=\"dataframe\">\n",
       "  <thead>\n",
       "    <tr style=\"text-align: right;\">\n",
       "      <th></th>\n",
       "      <th>mean</th>\n",
       "      <th>median</th>\n",
       "      <th>std</th>\n",
       "      <th>var</th>\n",
       "    </tr>\n",
       "  </thead>\n",
       "  <tbody>\n",
       "    <tr>\n",
       "      <td>0</td>\n",
       "      <td>4.857143</td>\n",
       "      <td>4.0</td>\n",
       "      <td>3.287784</td>\n",
       "      <td>10.809524</td>\n",
       "    </tr>\n",
       "    <tr>\n",
       "      <td>1</td>\n",
       "      <td>7.428571</td>\n",
       "      <td>6.0</td>\n",
       "      <td>6.320790</td>\n",
       "      <td>39.952381</td>\n",
       "    </tr>\n",
       "    <tr>\n",
       "      <td>2</td>\n",
       "      <td>12.571429</td>\n",
       "      <td>4.0</td>\n",
       "      <td>21.164886</td>\n",
       "      <td>447.952381</td>\n",
       "    </tr>\n",
       "    <tr>\n",
       "      <td>3</td>\n",
       "      <td>10.000000</td>\n",
       "      <td>6.0</td>\n",
       "      <td>13.625956</td>\n",
       "      <td>185.666667</td>\n",
       "    </tr>\n",
       "    <tr>\n",
       "      <td>4</td>\n",
       "      <td>15.142857</td>\n",
       "      <td>4.0</td>\n",
       "      <td>28.754296</td>\n",
       "      <td>826.809524</td>\n",
       "    </tr>\n",
       "    <tr>\n",
       "      <td>5</td>\n",
       "      <td>6.142857</td>\n",
       "      <td>6.0</td>\n",
       "      <td>3.287784</td>\n",
       "      <td>10.809524</td>\n",
       "    </tr>\n",
       "    <tr>\n",
       "      <td>6</td>\n",
       "      <td>8.714286</td>\n",
       "      <td>6.0</td>\n",
       "      <td>9.911513</td>\n",
       "      <td>98.238095</td>\n",
       "    </tr>\n",
       "    <tr>\n",
       "      <td>7</td>\n",
       "      <td>10.000000</td>\n",
       "      <td>6.0</td>\n",
       "      <td>13.625956</td>\n",
       "      <td>185.666667</td>\n",
       "    </tr>\n",
       "    <tr>\n",
       "      <td>8</td>\n",
       "      <td>12.571429</td>\n",
       "      <td>4.0</td>\n",
       "      <td>21.164886</td>\n",
       "      <td>447.952381</td>\n",
       "    </tr>\n",
       "    <tr>\n",
       "      <td>9</td>\n",
       "      <td>15.142857</td>\n",
       "      <td>8.0</td>\n",
       "      <td>20.755952</td>\n",
       "      <td>430.809524</td>\n",
       "    </tr>\n",
       "  </tbody>\n",
       "</table>\n",
       "</div>"
      ],
      "text/plain": [
       "        mean  median        std         var\n",
       "0   4.857143     4.0   3.287784   10.809524\n",
       "1   7.428571     6.0   6.320790   39.952381\n",
       "2  12.571429     4.0  21.164886  447.952381\n",
       "3  10.000000     6.0  13.625956  185.666667\n",
       "4  15.142857     4.0  28.754296  826.809524\n",
       "5   6.142857     6.0   3.287784   10.809524\n",
       "6   8.714286     6.0   9.911513   98.238095\n",
       "7  10.000000     6.0  13.625956  185.666667\n",
       "8  12.571429     4.0  21.164886  447.952381\n",
       "9  15.142857     8.0  20.755952  430.809524"
      ]
     },
     "execution_count": 23,
     "metadata": {},
     "output_type": "execute_result"
    }
   ],
   "source": [
    "df"
   ]
  },
  {
   "cell_type": "code",
   "execution_count": 24,
   "metadata": {},
   "outputs": [
    {
     "data": {
      "image/png": "[encoded data removed]",
      "text/plain": [
       "<Figure size 432x288 with 4 Axes>"
      ]
     },
     "metadata": {
      "needs_background": "light"
     },
     "output_type": "display_data"
    }
   ],
   "source": [
    "plt.subplot(2,2,1)\n",
    "plt.bar([1,2,3,4,5,6,7,8,9,10],df[\"mean\"],label=\"Population mean\")\n",
    "plt.legend(loc=\"upper left\")\n",
    "plt.xticks([1,2,3,4,5,6,7,8,9,10])\n",
    "plt.subplot(2,2,2)\n",
    "plt.bar([1,2,3,4,5,6,7,8,9,10],df[\"median\"],label=\"Population median\")\n",
    "plt.legend(loc=\"upper left\")\n",
    "plt.xticks([1,2,3,4,5,6,7,8,9,10])\n",
    "plt.subplot(2,2,3)\n",
    "plt.bar([1,2,3,4,5,6,7,8,9,10],df[\"std\"],label=\"Population standard deviation\")\n",
    "plt.legend(loc=\"upper left\")\n",
    "plt.xticks([1,2,3,4,5,6,7,8,9,10])\n",
    "plt.subplot(2,2,4)\n",
    "plt.bar([1,2,3,4,5,6,7,8,9,10],df[\"var\"],label=\"Population Variance\")\n",
    "plt.legend(loc=\"upper left\")\n",
    "plt.xticks([1,2,3,4,5,6,7,8,9,10])\n",
    "plt.show()"
   ]
  },
  {
   "cell_type": "code",
   "execution_count": null,
   "metadata": {},
   "outputs": [],
   "source": []
  },
  {
   "cell_type": "code",
   "execution_count": null,
   "metadata": {},
   "outputs": [],
   "source": []
  },
  {
   "cell_type": "code",
   "execution_count": null,
   "metadata": {},
   "outputs": [],
   "source": []
  }
 ],
 "metadata": {
  "kernelspec": {
   "display_name": "Python 3",
   "language": "python",
   "name": "python3"
  },
  "language_info": {
   "codemirror_mode": {
    "name": "ipython",
    "version": 3
   },
   "file_extension": ".py",
   "mimetype": "text/x-python",
   "name": "python",
   "nbconvert_exporter": "python",
   "pygments_lexer": "ipython3",
   "version": "3.7.4"
  }
 },
 "nbformat": 4,
 "nbformat_minor": 2
}
