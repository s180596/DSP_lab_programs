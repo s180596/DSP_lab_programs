{
 "cells": [
  {
   "cell_type": "markdown",
   "metadata": {},
   "source": [
    "### Using Functions:"
   ]
  },
  {
   "cell_type": "markdown",
   "metadata": {},
   "source": [
    "### Display \"hello\""
   ]
  },
  {
   "cell_type": "code",
   "execution_count": 1,
   "metadata": {
    "scrolled": true
   },
   "outputs": [
    {
     "name": "stdout",
     "output_type": "stream",
     "text": [
      "hello\n"
     ]
    }
   ],
   "source": [
    "def fun():\n",
    "    print(\"hello\")\n",
    "fun()"
   ]
  },
  {
   "cell_type": "markdown",
   "metadata": {},
   "source": [
    "### Factorial of a given number:"
   ]
  },
  {
   "cell_type": "code",
   "execution_count": 2,
   "metadata": {},
   "outputs": [
    {
     "name": "stdout",
     "output_type": "stream",
     "text": [
      "Enter the number:7\n",
      "factorial of  7 is 5040\n"
     ]
    }
   ],
   "source": [
    "def factorial(n):\n",
    "    i=1\n",
    "    fact=1\n",
    "    for i in range(1,n+1,1):\n",
    "        fact=fact*i\n",
    "    print(\"factorial of \",n,\"is\",fact)\n",
    "x=int(input(\"Enter the number:\"))\n",
    "factorial(x)"
   ]
  },
  {
   "cell_type": "markdown",
   "metadata": {},
   "source": [
    "### Recursion:"
   ]
  },
  {
   "cell_type": "markdown",
   "metadata": {},
   "source": [
    "### Factorial of a number:"
   ]
  },
  {
   "cell_type": "code",
   "execution_count": 14,
   "metadata": {},
   "outputs": [
    {
     "name": "stdout",
     "output_type": "stream",
     "text": [
      "Enter the number:5\n",
      "120\n"
     ]
    }
   ],
   "source": [
    "def factorial(n):\n",
    "    if(n==0):\n",
    "        return 1\n",
    "    else:\n",
    "        return n*factorial(n-1)\n",
    "x=int(input(\"Enter the number:\"))\n",
    "print(factorial(x))"
   ]
  },
  {
   "cell_type": "markdown",
   "metadata": {},
   "source": [
    "### Power:"
   ]
  },
  {
   "cell_type": "code",
   "execution_count": 3,
   "metadata": {},
   "outputs": [
    {
     "name": "stdout",
     "output_type": "stream",
     "text": [
      "Enter the number:7\n",
      "Enter the power value:3\n",
      "y power m= 343\n"
     ]
    }
   ],
   "source": [
    "def power(x,n):\n",
    "    if(n==0):\n",
    "        return 1\n",
    "    else:\n",
    "        return x*power(x,n-1)\n",
    "y=int(input(\"Enter the number:\"))\n",
    "m=int(input(\"Enter the power value:\"))\n",
    "print(\"y power m=\",power(y,m))"
   ]
  },
  {
   "cell_type": "markdown",
   "metadata": {},
   "source": [
    "### 1.Checking whether 2 numbers are coprime or not:"
   ]
  },
  {
   "cell_type": "code",
   "execution_count": 4,
   "metadata": {},
   "outputs": [
    {
     "name": "stdout",
     "output_type": "stream",
     "text": [
      "Enter the number1:4\n",
      "Enter the number2:7\n",
      "4 7 are coprimes\n"
     ]
    }
   ],
   "source": [
    "def gcd(a,b):\n",
    "    if(a>b):\n",
    "        x=a%b\n",
    "        if(x==0):\n",
    "            return b\n",
    "        else:\n",
    "            return gcd(b,x)\n",
    "    else:\n",
    "        x=b%a\n",
    "        if(x==0):\n",
    "            return a\n",
    "        else:\n",
    "            return gcd(a,x)\n",
    "y=int(input(\"Enter the number1:\"))\n",
    "z=int(input(\"Enter the number2:\"))\n",
    "w=gcd(y,z)\n",
    "if(w==1):\n",
    "    print(y,z,\"are coprimes\")\n",
    "else:\n",
    "    print(y,z,\"are not coprimes\")"
   ]
  },
  {
   "cell_type": "markdown",
   "metadata": {},
   "source": [
    "### 2.Finding lcm of two numbers:"
   ]
  },
  {
   "cell_type": "code",
   "execution_count": 25,
   "metadata": {},
   "outputs": [
    {
     "name": "stdout",
     "output_type": "stream",
     "text": [
      "Enter the number:5\n",
      "Enter the number:6\n",
      "Lcm of  5 6  is  30.0\n"
     ]
    }
   ],
   "source": [
    "def gcd(a,b):\n",
    "    if(a>b):\n",
    "        x=a%b\n",
    "        if(x==0):\n",
    "            return b\n",
    "        else:\n",
    "            return gcd(b,x)\n",
    "    else:\n",
    "        x=b%a\n",
    "        if(x==0):\n",
    "            return a\n",
    "        else:\n",
    "            return gcd(a,x)\n",
    "y=int(input(\"Enter the number:\"))\n",
    "z=int(input(\"Enter the number:\"))\n",
    "lcm=(y*z)/gcd(y,z)\n",
    "print(\"Lcm of \",y,z,\" is \",lcm)"
   ]
  },
  {
   "cell_type": "markdown",
   "metadata": {},
   "source": [
    "### 3.Fibanocci Series:"
   ]
  },
  {
   "cell_type": "markdown",
   "metadata": {},
   "source": [
    "#### 1.display nth number in the fibanocci series:"
   ]
  },
  {
   "cell_type": "code",
   "execution_count": 5,
   "metadata": {},
   "outputs": [
    {
     "name": "stdout",
     "output_type": "stream",
     "text": [
      "Enter the number:6\n",
      "5\n"
     ]
    }
   ],
   "source": [
    "def fibanocci(n):\n",
    "    if(n<=1):\n",
    "        return n\n",
    "    else:\n",
    "        return fibanocci(n-1)+fibanocci(n-2)\n",
    "x=int(input(\"Enter the number:\"))\n",
    "for i in range(x):\n",
    "    fibanocci(i)\n",
    "print(fibanocci(i))"
   ]
  },
  {
   "cell_type": "markdown",
   "metadata": {},
   "source": [
    "#### 2.first n numbers of the fibanocci series"
   ]
  },
  {
   "cell_type": "code",
   "execution_count": 6,
   "metadata": {},
   "outputs": [
    {
     "name": "stdout",
     "output_type": "stream",
     "text": [
      "Enter the number:6\n",
      "0\n",
      "1\n",
      "1\n",
      "2\n",
      "3\n",
      "5\n"
     ]
    }
   ],
   "source": [
    "def fibanocci(n):\n",
    "    if(n<=1):\n",
    "        return n\n",
    "    else:\n",
    "        return fibanocci(n-1)+fibanocci(n-2)\n",
    "x=int(input(\"Enter the number:\"))\n",
    "for i in range(x):\n",
    "    print(fibanocci(i))"
   ]
  },
  {
   "cell_type": "markdown",
   "metadata": {},
   "source": [
    "#### 3.fibanocci upto n"
   ]
  },
  {
   "cell_type": "code",
   "execution_count": 7,
   "metadata": {},
   "outputs": [
    {
     "name": "stdout",
     "output_type": "stream",
     "text": [
      "Enter the number:80\n",
      "0\n",
      "1\n",
      "1\n",
      "2\n",
      "3\n",
      "5\n",
      "8\n",
      "13\n",
      "21\n",
      "34\n",
      "55\n"
     ]
    }
   ],
   "source": [
    "def fibanocci(n):\n",
    "    if(n<=1):\n",
    "        return n\n",
    "    else:\n",
    "        return fibanocci(n-1)+fibanocci(n-2)\n",
    "x=int(input(\"Enter the number:\"))\n",
    "for i in range(x):\n",
    "    if(fibanocci(i)<=x):\n",
    "        print(fibanocci(i))\n",
    "    else:\n",
    "        break"
   ]
  },
  {
   "cell_type": "code",
   "execution_count": null,
   "metadata": {},
   "outputs": [],
   "source": []
  },
  {
   "cell_type": "code",
   "execution_count": null,
   "metadata": {},
   "outputs": [],
   "source": []
  }
 ],
 "metadata": {
  "kernelspec": {
   "display_name": "Python 3",
   "language": "python",
   "name": "python3"
  },
  "language_info": {
   "codemirror_mode": {
    "name": "ipython",
    "version": 3
   },
   "file_extension": ".py",
   "mimetype": "text/x-python",
   "name": "python",
   "nbconvert_exporter": "python",
   "pygments_lexer": "ipython3",
   "version": "3.7.4"
  }
 },
 "nbformat": 4,
 "nbformat_minor": 2
}
