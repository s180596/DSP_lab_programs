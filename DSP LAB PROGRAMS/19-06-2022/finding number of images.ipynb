{
 "cells": [
  {
   "cell_type": "code",
   "execution_count": 4,
   "metadata": {},
   "outputs": [
    {
     "name": "stdout",
     "output_type": "stream",
     "text": [
      "//pixel.quantserve.com/pixel/p-F65BUZWGJALyW.gif\n",
      "https://d5nxst8fruw4z.cloudfront.net/atrk.gif?account=aTL1o1QolK104B\n",
      "https://sb.scorecardresearch.com/p?c1=2&c2=28823716&cv=2.0&cj=1\n",
      "https://sf.readwhere.com/read/theme/sakshi/images/play_store.png?v=1505390569\n",
      "https://sf.readwhere.com/read/theme/sakshi/images/play_store.png?v=1505390569\n",
      "https://cache.epapr.in/static/google_play_icon.png\n",
      "https://mcmscache.epapr.in/post_images/website_12/new_post_images/5ef4533ac6db4_ad.jpg\n",
      "https://marketing.readwhere.com/upload-img/Sakshi2019.jpg\n",
      "https://mcmscache.epapr.in/post_images/website_12/new_post_images/5ef4533ac6db4_ad.jpg\n",
      "https://marketing.readwhere.com/apple_icon.png\n",
      "https://marketing.readwhere.com/mailer1/newlogobookfair.png\n",
      "http://b.scorecardresearch.com/p?c1=2&c2=17503311&cv=2.0&cj=1\n",
      "The number of links in the given link are: 12\n"
     ]
    }
   ],
   "source": [
    "import re\n",
    "import urllib.request\n",
    "url=\"https://epaper.sakshi.com/\"\n",
    "resp=urllib.request.urlopen(url)\n",
    "page1=resp.read()\n",
    "page=str(page1)\n",
    "count=0\n",
    "def geturl(page):\n",
    "    startlink=page.find(\"<img src\")\n",
    "    startquote=page.find('\"',startlink)\n",
    "    endquote=page.find('\"',startquote+1)\n",
    "    url=page[startquote+1:endquote]\n",
    "    return url,endquote\n",
    "while True:\n",
    "    url,n=geturl(page)\n",
    "    page=page[n:]\n",
    "    if url:\n",
    "        print(url)\n",
    "        count=count+1\n",
    "    else:\n",
    "        break;\n",
    "print(\"The number of links in the given link are:\",count)"
   ]
  },
  {
   "cell_type": "code",
   "execution_count": null,
   "metadata": {},
   "outputs": [],
   "source": []
  }
 ],
 "metadata": {
  "kernelspec": {
   "display_name": "Python 3",
   "language": "python",
   "name": "python3"
  },
  "language_info": {
   "codemirror_mode": {
    "name": "ipython",
    "version": 3
   },
   "file_extension": ".py",
   "mimetype": "text/x-python",
   "name": "python",
   "nbconvert_exporter": "python",
   "pygments_lexer": "ipython3",
   "version": "3.7.4"
  }
 },
 "nbformat": 4,
 "nbformat_minor": 2
}
