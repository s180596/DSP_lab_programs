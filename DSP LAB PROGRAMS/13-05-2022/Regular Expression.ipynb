{
 "cells": [
  {
   "cell_type": "code",
   "execution_count": 24,
   "metadata": {},
   "outputs": [
    {
     "name": "stdout",
     "output_type": "stream",
     "text": [
      "<re.Match object; span=(16, 19), match='the'>\n",
      "<re.Match object; span=(0, 0), match=''>\n",
      "<re.Match object; span=(13, 14), match='t'>\n"
     ]
    }
   ],
   "source": [
    "import re\n",
    "text=\"hai! welcome to the python class to learn python.hai.\"\n",
    "print(re.search(\"the\",text))\n",
    "print(re.search(\"t*\",text))\n",
    "print(re.search(\"t+\",text))"
   ]
  },
  {
   "cell_type": "code",
   "execution_count": 25,
   "metadata": {},
   "outputs": [
    {
     "name": "stdout",
     "output_type": "stream",
     "text": [
      "<re.Match object; span=(0, 1), match='h'>\n"
     ]
    }
   ],
   "source": [
    "print(re.search(\"^h\",text))"
   ]
  },
  {
   "cell_type": "code",
   "execution_count": 6,
   "metadata": {},
   "outputs": [
    {
     "name": "stdout",
     "output_type": "stream",
     "text": [
      "['to', 'to']\n",
      "['t', 't', 't', 't', 't']\n",
      "['', '', '', '', '', '', '', '', '', '', '', '', '', 't', '', '', 't', '', '', '', '', '', 't', '', '', '', '', '', '', '', '', '', '', 't', '', '', '', '', '', '', '', '', '', '', 't', '', '', '', '', '']\n"
     ]
    }
   ],
   "source": [
    "print(re.findall(\"to\",text))\n",
    "print(re.findall(\"t+\",text))\n",
    "print(re.findall(\"t*\",text))"
   ]
  },
  {
   "cell_type": "code",
   "execution_count": 18,
   "metadata": {},
   "outputs": [
    {
     "data": {
      "text/plain": [
       "'hai! welcome for the python class for learn python.'"
      ]
     },
     "execution_count": 18,
     "metadata": {},
     "output_type": "execute_result"
    }
   ],
   "source": [
    "re.sub(\"to\",\"for\",text)"
   ]
  },
  {
   "cell_type": "code",
   "execution_count": null,
   "metadata": {},
   "outputs": [],
   "source": []
  },
  {
   "cell_type": "code",
   "execution_count": null,
   "metadata": {},
   "outputs": [],
   "source": []
  }
 ],
 "metadata": {
  "kernelspec": {
   "display_name": "Python 3",
   "language": "python",
   "name": "python3"
  },
  "language_info": {
   "codemirror_mode": {
    "name": "ipython",
    "version": 3
   },
   "file_extension": ".py",
   "mimetype": "text/x-python",
   "name": "python",
   "nbconvert_exporter": "python",
   "pygments_lexer": "ipython3",
   "version": "3.7.4"
  }
 },
 "nbformat": 4,
 "nbformat_minor": 2
}
