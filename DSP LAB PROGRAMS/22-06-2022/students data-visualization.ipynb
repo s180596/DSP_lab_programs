{
 "cells": [
  {
   "cell_type": "code",
   "execution_count": 1,
   "metadata": {},
   "outputs": [],
   "source": [
    "import pandas as p\n",
    "import numpy as n\n",
    "import matplotlib.pyplot as plt"
   ]
  },
  {
   "cell_type": "code",
   "execution_count": 3,
   "metadata": {},
   "outputs": [
    {
     "name": "stdout",
     "output_type": "stream",
     "text": [
      "     ID      NAME BRANCH  CGPA  MARKS    FEE GENDER\n",
      "0   596    bhagya    cse  9.50    450   1000      F\n",
      "1   766      teja    ece  9.70    470   2000      M\n",
      "2   566      raju     me  9.40    445   4200      M\n",
      "3   373  poojitha    cse  9.72    478   3000      F\n",
      "4   543     sunny     me  9.50    450   5000      M\n",
      "5   992      neha    ece  9.89    490  23535      F\n",
      "6   786    naveen    eee  9.90    495  20000      M\n",
      "7   305     satya     ce  9.74    479  56457      F\n",
      "8   999     sailu    eee  9.80    480   7567      F\n",
      "9   839    chinna     ce  9.60    468   4020      M\n",
      "10  101    sweety     me  9.20    400  10000      F\n",
      "11  345      nani    cse  9.70    475   3000      M\n",
      "12  420    geetha    cse  9.70    470  68568      F\n",
      "13  191   sumathi     ce  9.89    490   5754      F\n",
      "14  895     madhu     ce  9.75    475   6765      F\n",
      "15  425   dharani    ece  9.95    495   5677      F\n"
     ]
    }
   ],
   "source": [
    "df=p.read_csv(\"students.csv\")\n",
    "print(df)"
   ]
  },
  {
   "cell_type": "code",
   "execution_count": 10,
   "metadata": {},
   "outputs": [
    {
     "data": {
      "text/plain": [
       "{'ce': Int64Index([7, 9, 13, 14], dtype='int64'),\n",
       " 'cse': Int64Index([0, 3, 11, 12], dtype='int64'),\n",
       " 'ece': Int64Index([1, 5, 15], dtype='int64'),\n",
       " 'eee': Int64Index([6, 8], dtype='int64'),\n",
       " 'me': Int64Index([2, 4, 10], dtype='int64')}"
      ]
     },
     "execution_count": 10,
     "metadata": {},
     "output_type": "execute_result"
    }
   ],
   "source": [
    "df.groupby([\"BRANCH\"]).groups"
   ]
  },
  {
   "cell_type": "code",
   "execution_count": 8,
   "metadata": {},
   "outputs": [
    {
     "name": "stdout",
     "output_type": "stream",
     "text": [
      "<pandas.core.groupby.generic.DataFrameGroupBy object at 0x0000021F578FCE08>\n"
     ]
    }
   ],
   "source": [
    "df.groupby([\"BRANCH\"])."
   ]
  },
  {
   "cell_type": "code",
   "execution_count": 6,
   "metadata": {},
   "outputs": [
    {
     "name": "stdout",
     "output_type": "stream",
     "text": [
      "___about p1:___\n",
      "mean: 3.2\n",
      "median: 3.0\n",
      "std: 1.9235384061671346\n",
      "var: 3.7\n",
      "____about p2:____\n",
      "mean: 6.8\n",
      "median: 4.0\n",
      "std: 7.596051605933177\n",
      "var: 57.699999999999996\n",
      "____about p3:____\n",
      "mean: 14.0\n",
      "median: 3.0\n",
      "std: 25.739075352467502\n",
      "var: 662.5\n"
     ]
    }
   ],
   "source": []
  },
  {
   "cell_type": "code",
   "execution_count": 5,
   "metadata": {},
   "outputs": [
    {
     "name": "stdout",
     "output_type": "stream",
     "text": [
      "___about p1:___\n",
      "mean: 4.857142857142857\n",
      "median: 4.0\n",
      "std: 3.2877840272018797\n",
      "var: 10.80952380952381\n",
      "____about p2:____\n",
      "mean: 7.428571428571429\n",
      "median: 6.0\n",
      "std: 6.320789582985733\n",
      "var: 39.952380952380956\n",
      "____about p3:____\n",
      "mean: 12.571428571428571\n",
      "median: 4.0\n",
      "std: 21.164885564358265\n",
      "var: 447.9523809523809\n",
      "___about p4:___\n",
      "mean: 10.0\n",
      "median: 6.0\n",
      "std: 13.625955623979797\n",
      "var: 185.66666666666666\n",
      "____about p5:____\n",
      "mean: 15.142857142857142\n",
      "median: 4.0\n",
      "std: 28.754295745323407\n",
      "var: 826.8095238095239\n",
      "____about p6:____\n",
      "mean: 6.142857142857143\n",
      "median: 6.0\n",
      "std: 3.2877840272018797\n",
      "var: 10.80952380952381\n",
      "___about p7:___\n",
      "mean: 8.714285714285714\n",
      "median: 6.0\n",
      "std: 9.911513266807205\n",
      "var: 98.23809523809523\n",
      "____about p8:____\n",
      "mean: 10.0\n",
      "median: 6.0\n",
      "std: 13.625955623979797\n",
      "var: 185.66666666666666\n",
      "____about p9:____\n",
      "mean: 12.571428571428571\n",
      "median: 4.0\n",
      "std: 21.164885564358265\n",
      "var: 447.9523809523809\n",
      "___about p10:___\n",
      "mean: 15.142857142857142\n",
      "median: 8.0\n",
      "std: 20.755951527442047\n",
      "var: 430.8095238095239\n"
     ]
    }
   ],
   "source": []
  },
  {
   "cell_type": "code",
   "execution_count": 14,
   "metadata": {},
   "outputs": [
    {
     "name": "stdout",
     "output_type": "stream",
     "text": [
      "p1:\n",
      "\n",
      " 0     1\n",
      "1     3\n",
      "2     2\n",
      "3     4\n",
      "4     6\n",
      "5     8\n",
      "6    10\n",
      "dtype: int64\n",
      "p2: 0     1\n",
      "1     3\n",
      "2    20\n",
      "3     4\n",
      "4     6\n",
      "5     8\n",
      "6    10\n",
      "dtype: int64\n",
      "p3: 0     1\n",
      "1     3\n",
      "2     2\n",
      "3     4\n",
      "4    60\n",
      "5     8\n",
      "6    10\n",
      "dtype: int64\n",
      "p4: 0     1\n",
      "1     3\n",
      "2     2\n",
      "3    40\n",
      "4     6\n",
      "5     8\n",
      "6    10\n",
      "dtype: int64\n",
      "p5: 0     1\n",
      "1     3\n",
      "2     2\n",
      "3     4\n",
      "4     6\n",
      "5    80\n",
      "6    10\n",
      "dtype: int64\n",
      "p6: 0    10\n",
      "1     3\n",
      "2     2\n",
      "3     4\n",
      "4     6\n",
      "5     8\n",
      "6    10\n",
      "dtype: int64\n",
      "p7: 0     1\n",
      "1    30\n",
      "2     2\n",
      "3     4\n",
      "4     6\n",
      "5     8\n",
      "6    10\n",
      "dtype: int64\n",
      "p8: 0     1\n",
      "1     3\n",
      "2     2\n",
      "3    40\n",
      "4     6\n",
      "5     8\n",
      "6    10\n",
      "dtype: int64\n",
      "p9: 0     1\n",
      "1     3\n",
      "2     2\n",
      "3     4\n",
      "4    60\n",
      "5     8\n",
      "6    10\n",
      "dtype: int64\n",
      "p10: 0     1\n",
      "1     3\n",
      "2    20\n",
      "3     4\n",
      "4    60\n",
      "5     8\n",
      "6    10\n",
      "dtype: int64\n",
      "        mean  median        std         var\n",
      "0   4.857143     4.0   3.287784   10.809524\n",
      "1   7.428571     6.0   6.320790   39.952381\n",
      "2  12.571429     4.0  21.164886  447.952381\n",
      "3  10.000000     6.0  13.625956  185.666667\n",
      "4  15.142857     4.0  28.754296  826.809524\n",
      "5   6.142857     6.0   3.287784   10.809524\n",
      "6   8.714286     6.0   9.911513   98.238095\n",
      "7  10.000000     6.0  13.625956  185.666667\n",
      "8  12.571429     4.0  21.164886  447.952381\n",
      "9  15.142857     8.0  20.755952  430.809524\n"
     ]
    }
   ],
   "source": []
  },
  {
   "cell_type": "code",
   "execution_count": 15,
   "metadata": {},
   "outputs": [
    {
     "data": {
      "text/plain": [
       "(0     1\n",
       " 1     3\n",
       " 2     2\n",
       " 3     4\n",
       " 4     6\n",
       " 5     8\n",
       " 6    10\n",
       " dtype: int64, 0     1\n",
       " 1     3\n",
       " 2    20\n",
       " 3     4\n",
       " 4     6\n",
       " 5     8\n",
       " 6    10\n",
       " dtype: int64)"
      ]
     },
     "execution_count": 15,
     "metadata": {},
     "output_type": "execute_result"
    }
   ],
   "source": []
  },
  {
   "cell_type": "code",
   "execution_count": null,
   "metadata": {},
   "outputs": [],
   "source": []
  }
 ],
 "metadata": {
  "kernelspec": {
   "display_name": "Python 3",
   "language": "python",
   "name": "python3"
  },
  "language_info": {
   "codemirror_mode": {
    "name": "ipython",
    "version": 3
   },
   "file_extension": ".py",
   "mimetype": "text/x-python",
   "name": "python",
   "nbconvert_exporter": "python",
   "pygments_lexer": "ipython3",
   "version": "3.7.4"
  }
 },
 "nbformat": 4,
 "nbformat_minor": 2
}
