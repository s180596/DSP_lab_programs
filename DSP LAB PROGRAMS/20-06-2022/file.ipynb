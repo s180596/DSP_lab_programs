{
 "cells": [
  {
   "cell_type": "code",
   "execution_count": 4,
   "metadata": {},
   "outputs": [
    {
     "name": "stdout",
     "output_type": "stream",
     "text": [
      "File created\n",
      "End of the file\n"
     ]
    }
   ],
   "source": [
    "file=open(\"f1.txt\",\"w\")\n",
    "print(\"File created\")\n",
    "file.close()\n",
    "print(\"End of the file\")"
   ]
  },
  {
   "cell_type": "code",
   "execution_count": null,
   "metadata": {},
   "outputs": [],
   "source": [
    "file=open(\"f1.pdf\",\"w\")\n",
    "print(\"File created\")\n",
    "file.close()\n",
    "print(\"End of the file\")"
   ]
  },
  {
   "cell_type": "code",
   "execution_count": 1,
   "metadata": {},
   "outputs": [
    {
     "name": "stdout",
     "output_type": "stream",
     "text": [
      "End of the file\n"
     ]
    }
   ],
   "source": [
    "file=open(\"textfile.txt\",\"w\")\n",
    "file.write(\"programming language\")\n",
    "file.close()\n",
    "print(\"End of the file\")"
   ]
  },
  {
   "cell_type": "code",
   "execution_count": 2,
   "metadata": {},
   "outputs": [
    {
     "name": "stdout",
     "output_type": "stream",
     "text": [
      "End of the file.\n"
     ]
    }
   ],
   "source": [
    "file=open(\"textfile2.txt\",\"w\")\n",
    "file.write(\"This is the text file.\")\n",
    "file.close()\n",
    "print(\"End of the file.\")\n"
   ]
  },
  {
   "cell_type": "code",
   "execution_count": 3,
   "metadata": {},
   "outputs": [],
   "source": [
    "file=open(\"textfile2.txt\",\"a\")\n",
    "file.write(\"This is append text.\")\n",
    "file.close()\n"
   ]
  },
  {
   "cell_type": "code",
   "execution_count": 4,
   "metadata": {},
   "outputs": [
    {
     "name": "stdout",
     "output_type": "stream",
     "text": [
      "This is the text file.This is append text.\n"
     ]
    }
   ],
   "source": [
    "file=open(\"textfile2.txt\",\"r\")\n",
    "print(file.read())\n",
    "file.close()"
   ]
  },
  {
   "cell_type": "code",
   "execution_count": 5,
   "metadata": {},
   "outputs": [
    {
     "name": "stdout",
     "output_type": "stream",
     "text": [
      "0\n",
      "10\n"
     ]
    }
   ],
   "source": [
    "file=open(\"textfile.txt\",\"r\")\n",
    "print(file.tell())\n",
    "print(file.seek(10,0))\n",
    "file.close()"
   ]
  },
  {
   "cell_type": "code",
   "execution_count": 6,
   "metadata": {},
   "outputs": [],
   "source": [
    "with open(\"file3.txt\",\"w\") as fo:\n",
    "    fo.write(\"hai python\")"
   ]
  },
  {
   "cell_type": "code",
   "execution_count": 7,
   "metadata": {},
   "outputs": [
    {
     "name": "stdout",
     "output_type": "stream",
     "text": [
      "program\n"
     ]
    }
   ],
   "source": [
    "with open(\"textfile.txt\",\"r\") as file:\n",
    "    print(file.read(7))"
   ]
  },
  {
   "cell_type": "code",
   "execution_count": 8,
   "metadata": {},
   "outputs": [],
   "source": [
    "with open(\"textfile.txt\",\"a\") as f:\n",
    "    f.writelines(\"id number=1.branch=Cse\\nrguktsklm.\")"
   ]
  },
  {
   "cell_type": "code",
   "execution_count": 9,
   "metadata": {},
   "outputs": [
    {
     "name": "stdout",
     "output_type": "stream",
     "text": [
      "programming languageid number=1.branch=Cse\n",
      "rguktsklm.\n"
     ]
    }
   ],
   "source": [
    "with open(\"textfile.txt\",\"r\") as file:\n",
    "    print(file.read())"
   ]
  },
  {
   "cell_type": "code",
   "execution_count": 10,
   "metadata": {},
   "outputs": [
    {
     "name": "stdout",
     "output_type": "stream",
     "text": [
      "['programming languageid number=1.branch=Cse\\n', 'rguktsklm.']\n"
     ]
    }
   ],
   "source": [
    "with open(\"textfile.txt\",\"r\") as o:\n",
    "    print(o.readlines())"
   ]
  },
  {
   "cell_type": "code",
   "execution_count": 11,
   "metadata": {},
   "outputs": [
    {
     "name": "stdout",
     "output_type": "stream",
     "text": [
      "programming languageid number=1.branch=Cse\n",
      "\n",
      "44\n",
      "rguktsklm.\n",
      "0\n",
      "programming languageid number=1.branch=Cse\n",
      "\n",
      "10\n",
      "g languageid number=1.branch=Cse\n",
      "\n"
     ]
    }
   ],
   "source": [
    "with open(\"textfile.txt\",\"r\") as file:\n",
    "    print(file.readline())\n",
    "    print(file.tell())\n",
    "    print(file.readline())\n",
    "    file.seek(0)\n",
    "    print(file.tell())\n",
    "    print(file.readline())\n",
    "    file.seek(10)\n",
    "    print(file.tell())\n",
    "    print(file.readline())"
   ]
  },
  {
   "cell_type": "code",
   "execution_count": 12,
   "metadata": {},
   "outputs": [
    {
     "name": "stdout",
     "output_type": "stream",
     "text": [
      "programming languageid number=1.branch=Cse\n",
      "\n",
      "rguktsklm.\n"
     ]
    }
   ],
   "source": [
    "f=open(\"textfile.txt\",\"r\")\n",
    "str=f.readline()\n",
    "while str:\n",
    "    print(str)\n",
    "    str=f.readline()\n",
    "f.close()"
   ]
  },
  {
   "cell_type": "code",
   "execution_count": 16,
   "metadata": {},
   "outputs": [
    {
     "name": "stdout",
     "output_type": "stream",
     "text": [
      "Writing the data.\n",
      "Enter the data to addd to the file:python\n",
      "again for append enter 1 else 0:1\n",
      "Enter the data to addd to the file:oops\n",
      "again for append enter 1 else 0:0\n",
      "\n",
      "python\n",
      "oops\n",
      "\n"
     ]
    }
   ],
   "source": [
    "with open(\"newfile.txt\",\"a+\") as ob:\n",
    "    print(\"Writing the data.\")\n",
    "    while 1:\n",
    "        l=input(\"Enter the data to addd to the file:\")\n",
    "        ob.write(l)\n",
    "        ob.write(\"\\n\")\n",
    "        a=int(input(\"again for append enter 1 else 0:\"))\n",
    "        if(a==0):\n",
    "            break\n",
    "    ob.seek(0)\n",
    "    print(ob.read())\n"
   ]
  },
  {
   "cell_type": "code",
   "execution_count": null,
   "metadata": {},
   "outputs": [],
   "source": []
  }
 ],
 "metadata": {
  "kernelspec": {
   "display_name": "Python 3",
   "language": "python",
   "name": "python3"
  },
  "language_info": {
   "codemirror_mode": {
    "name": "ipython",
    "version": 3
   },
   "file_extension": ".py",
   "mimetype": "text/x-python",
   "name": "python",
   "nbconvert_exporter": "python",
   "pygments_lexer": "ipython3",
   "version": "3.7.4"
  }
 },
 "nbformat": 4,
 "nbformat_minor": 2
}
