{
 "cells": [
  {
   "cell_type": "code",
   "execution_count": 2,
   "metadata": {},
   "outputs": [
    {
     "name": "stdout",
     "output_type": "stream",
     "text": [
      "file created\n",
      "End of the file\n"
     ]
    }
   ],
   "source": [
    "file=open(\"mainfile.txt\",\"w\")\n",
    "file.write(\"1.Trans-Himalayas: The trans-himalayas is an extension to the Tibetean plateau.This region harbors the high-altitude cold desert in ladakh (Jammu and Kashmir) and Lahaul Spiti (Himachal Pradesh). It accounts for 5.7% of the country's landmass.\")\n",
    "print(\"file created\")\n",
    "file.close()\n",
    "print(\"End of the file\")"
   ]
  },
  {
   "cell_type": "code",
   "execution_count": 3,
   "metadata": {},
   "outputs": [
    {
     "name": "stdout",
     "output_type": "stream",
     "text": [
      "True\n",
      "False\n"
     ]
    }
   ],
   "source": [
    "file=open(\"mainfile.txt\",\"r\")\n",
    "print(file.read(1).isdigit())\n",
    "print(file.read(1).isdigit())\n",
    "file.close()"
   ]
  },
  {
   "cell_type": "code",
   "execution_count": 4,
   "metadata": {},
   "outputs": [
    {
     "name": "stdout",
     "output_type": "stream",
     "text": [
      "0\n"
     ]
    }
   ],
   "source": [
    "file1=open(\"empty.txt\",\"r\")\n",
    "i=0\n",
    "while(file1.read()!=''):\n",
    "    print(file1.read(i))\n",
    "    i=i+1\n",
    "print(i)\n",
    "file1.close()"
   ]
  },
  {
   "cell_type": "code",
   "execution_count": 41,
   "metadata": {},
   "outputs": [
    {
     "name": "stdout",
     "output_type": "stream",
     "text": [
      "1.Trans-Himalayas: The trans-himalayas is an extension to the Tibetean plateau.This region harbors the high-altitude cold desert in ladakh (Jammu and Kashmir) and Lahaul Spiti (Himachal Pradesh). It accounts for 5.7% of the country's landmass.\n"
     ]
    }
   ],
   "source": [
    "uppercase=open(\"upper.txt\",\"a\")\n",
    "lowercase=open(\"lower.txt\",\"a\")\n",
    "number=open(\"numbers.txt\",\"a\")\n",
    "specialchar=open(\"specialcharacter.txt\",\"a\")\n",
    "file1=open(\"mainfile.txt\",\"r\")\n",
    "d=file1.read()\n",
    "file1.close()\n",
    "print(d)\n",
    "i=0\n",
    "while(i<len(d)):\n",
    "    if(d[i].isupper()):\n",
    "        uppercase.write(d[i])\n",
    "    elif(d[i].islower()):\n",
    "        lowercase.write(d[i])\n",
    "    elif(d[i].isdigit()):\n",
    "        number.write(d[i])\n",
    "    else:\n",
    "        specialchar.write(d[i])\n",
    "    i=i+1\n",
    "uppercase.close()\n",
    "lowercase.close()\n",
    "number.close()\n",
    "specialchar.close()"
   ]
  },
  {
   "cell_type": "code",
   "execution_count": 42,
   "metadata": {},
   "outputs": [
    {
     "name": "stdout",
     "output_type": "stream",
     "text": [
      "THTTTJKLSHPI\n"
     ]
    }
   ],
   "source": [
    "uppercase=open(\"upper.txt\",\"r\")\n",
    "print(uppercase.read())\n",
    "uppercase.close()"
   ]
  },
  {
   "cell_type": "code",
   "execution_count": 43,
   "metadata": {},
   "outputs": [
    {
     "name": "stdout",
     "output_type": "stream",
     "text": [
      "ransimalayashetranshimalayasisanextensiontotheibeteanplateauhisregionharborsthehighaltitudecolddesertinladakhammuandashmirandahaulpitiimachalradeshtaccountsforofthecountryslandmass\n"
     ]
    }
   ],
   "source": [
    "uppercase=open(\"lower.txt\",\"r\")\n",
    "print(uppercase.read())\n",
    "uppercase.close()"
   ]
  },
  {
   "cell_type": "code",
   "execution_count": null,
   "metadata": {},
   "outputs": [],
   "source": [
    "uppercase=open(\"specialcharact.txt\",\"r\")\n",
    "print(uppercase.read())\n",
    "uppercase.close()"
   ]
  }
 ],
 "metadata": {
  "kernelspec": {
   "display_name": "Python 3",
   "language": "python",
   "name": "python3"
  },
  "language_info": {
   "codemirror_mode": {
    "name": "ipython",
    "version": 3
   },
   "file_extension": ".py",
   "mimetype": "text/x-python",
   "name": "python",
   "nbconvert_exporter": "python",
   "pygments_lexer": "ipython3",
   "version": "3.7.4"
  }
 },
 "nbformat": 4,
 "nbformat_minor": 2
}
